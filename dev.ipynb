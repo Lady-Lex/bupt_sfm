{
 "cells": [
  {
   "cell_type": "code",
   "execution_count": 1,
   "metadata": {},
   "outputs": [],
   "source": [
    "import numpy as np\n",
    "from multiprocessing import Pool\n",
    "\n",
    "cloud = np.array([[1, 2, 3],\n",
    "                  [4, 5, 6],\n",
    "                  [7, 8, 9]])\n",
    "\n",
    "feature1_last = np.array([[1, 2], \n",
    "                          [7, 8],\n",
    "                          [4, 5],\n",
    "                          [4, 5]])\n",
    "\n",
    "feature1 = np.array([[1, 2], \n",
    "                     [4, 5],\n",
    "                     [2, 8],\n",
    "                     [7, 5]])\n",
    "\n",
    "feature2 = np.array([[10, 20],\n",
    "                     [40, 50],\n",
    "                     [70, 80]])"
   ]
  },
  {
   "cell_type": "code",
   "execution_count": 2,
   "metadata": {},
   "outputs": [],
   "source": [
    "def get_row_index(row, matrix):\n",
    "    assert len(row.shape) == 1 and len(matrix.shape) == 2 and row.shape[0] == matrix.shape[1]\n",
    "\n",
    "    for i in range(matrix.shape[0]):\n",
    "        if np.array_equal(row, matrix[i, :]):\n",
    "            return i\n",
    "    return None\n",
    "\n",
    "\n",
    "def get_rows_index(matrix1, matrix2):\n",
    "    assert len(matrix1.shape) == 2 and len(matrix2.shape) == 2 and matrix1.shape[1] == matrix2.shape[1]\n",
    "    \n",
    "    index = []\n",
    "    # for i in range(matrix1.shape[0]):\n",
    "    #     index.append(get_row_index(matrix1[i, :], matrix2))\n",
    "\n",
    "    with Pool() as p:  # 创建多个进程\n",
    "        results = [p.apply_async(get_row_index, args=(matrix1[i, :], matrix2)) for i in range(matrix1.shape[0])]\n",
    "        # 获取所有进程返回的结果\n",
    "        index = [result.get() for result in results]\n",
    "    return index"
   ]
  },
  {
   "cell_type": "code",
   "execution_count": 3,
   "metadata": {},
   "outputs": [],
   "source": [
    "# built_index = get_rows_index(feature1, feature1_last)\n",
    "# print(built_index)"
   ]
  },
  {
   "cell_type": "code",
   "execution_count": 4,
   "metadata": {},
   "outputs": [],
   "source": [
    "# built_index = list(filter(lambda x: x is not None, built_index))\n",
    "# cloud[built_index]"
   ]
  },
  {
   "cell_type": "code",
   "execution_count": 5,
   "metadata": {},
   "outputs": [],
   "source": [
    "# feature2[built_index]"
   ]
  },
  {
   "cell_type": "code",
   "execution_count": 6,
   "metadata": {},
   "outputs": [
    {
     "data": {
      "text/plain": [
       "array([[10, 20],\n",
       "       [70, 80]])"
      ]
     },
     "execution_count": 6,
     "metadata": {},
     "output_type": "execute_result"
    }
   ],
   "source": [
    "mask = np.array([True, False, True])\n",
    "feature2[mask]"
   ]
  },
  {
   "cell_type": "code",
   "execution_count": 7,
   "metadata": {},
   "outputs": [
    {
     "name": "stdout",
     "output_type": "stream",
     "text": [
      "[2 3 4]\n",
      "[ 2.          3.          4.         -0.70710678  0.          0.\n",
      "  0.70710678]\n"
     ]
    }
   ],
   "source": [
    "import numpy as np\n",
    "from math import sqrt\n",
    "\n",
    "# 3x4转移矩阵\n",
    "T = np.array([[1, 0, 0, 2],\n",
    "              [0, 1, 0, 3],\n",
    "              [0, 0, 1, 4]])\n",
    "\n",
    "# T = np.array([[0, -1, 0, 2],\n",
    "#               [1, 0, 0, 3],\n",
    "#               [0, 0, 1, 4]])\n",
    "\n",
    "T = np.array([[1, 0, 0, 2],\n",
    "              [0, 0, 1, 3],\n",
    "              [0, -1, 0, 4]])\n",
    "# 计算平移量\n",
    "t = T[:3, 3]\n",
    "print(t)\n",
    "\n",
    "# 计算四元数\n",
    "R = T[:3, :3]\n",
    "q0 = sqrt(1 + R[0][0] + R[1][1] + R[2][2]) / 2\n",
    "q1 = (R[2][1] - R[1][2]) / (4*q0)\n",
    "q2 = (R[0][2] - R[2][0]) / (4*q0)\n",
    "q3 = (R[1][0] - R[0][1]) / (4*q0)\n",
    "q = np.array([q1, q2, q3, q0])\n",
    "\n",
    "pose = np.hstack([t, q])\n",
    "print(pose)"
   ]
  },
  {
   "cell_type": "code",
   "execution_count": 8,
   "metadata": {},
   "outputs": [
    {
     "name": "stdout",
     "output_type": "stream",
     "text": [
      "Error: No module named 'dpviewer'\n"
     ]
    }
   ],
   "source": [
    "try:\n",
    "    import torch\n",
    "    from dpviewer import Viewer\n",
    "except ModuleNotFoundError as e:\n",
    "    use_dpviewer = False\n",
    "    print(\"Error:\", e)"
   ]
  },
  {
   "cell_type": "code",
   "execution_count": 9,
   "metadata": {},
   "outputs": [
    {
     "name": "stdout",
     "output_type": "stream",
     "text": [
      "(array([0, 2], dtype=int64),)\n",
      "[[1 2]\n",
      " [4 5]\n",
      " [2 8]\n",
      " [7 5]]\n"
     ]
    },
    {
     "data": {
      "text/plain": [
       "[array([1, 2]), array([2, 8])]"
      ]
     },
     "execution_count": 9,
     "metadata": {},
     "output_type": "execute_result"
    }
   ],
   "source": [
    "mask = np.array([True, False, True, False])\n",
    "print(np.where(mask))\n",
    "print(feature1)\n",
    "[feature1[i] for i in np.where(mask)[0]]"
   ]
  },
  {
   "cell_type": "code",
   "execution_count": 10,
   "metadata": {},
   "outputs": [
    {
     "data": {
      "text/plain": [
       "array([[1, 2, 3],\n",
       "       [7, 8, 9]])"
      ]
     },
     "execution_count": 10,
     "metadata": {},
     "output_type": "execute_result"
    }
   ],
   "source": [
    "cloud = np.array([[1, 2, 3],\n",
    "                    [4, 5, 6], \n",
    "                    [7, 8, 9]])\n",
    "\n",
    "index = [0,2]\n",
    "cloud[index]"
   ]
  },
  {
   "cell_type": "code",
   "execution_count": 12,
   "metadata": {},
   "outputs": [
    {
     "data": {
      "text/plain": [
       "(array([5], dtype=int64),)"
      ]
     },
     "execution_count": 12,
     "metadata": {},
     "output_type": "execute_result"
    }
   ],
   "source": [
    "a = np.array([1,2,4,3,7,5])\n",
    "b = np.array([5,3,7])\n",
    "np.where(a == b[0])"
   ]
  }
 ],
 "metadata": {
  "kernelspec": {
   "display_name": "dpvo",
   "language": "python",
   "name": "python3"
  },
  "language_info": {
   "codemirror_mode": {
    "name": "ipython",
    "version": 3
   },
   "file_extension": ".py",
   "mimetype": "text/x-python",
   "name": "python",
   "nbconvert_exporter": "python",
   "pygments_lexer": "ipython3",
   "version": "3.6.13"
  },
  "orig_nbformat": 4
 },
 "nbformat": 4,
 "nbformat_minor": 2
}
