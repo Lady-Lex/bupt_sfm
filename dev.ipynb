{
 "cells": [
  {
   "cell_type": "code",
   "execution_count": 13,
   "metadata": {},
   "outputs": [],
   "source": [
    "import numpy as np\n",
    "from multiprocessing import Pool\n",
    "\n",
    "cloud = np.array([[1, 2, 3],\n",
    "                  [4, 5, 6],\n",
    "                  [7, 8, 9]])\n",
    "\n",
    "feature1_last = np.array([[1, 2], \n",
    "                          [7, 8],\n",
    "                          [4, 5],\n",
    "                          [4, 5]])\n",
    "\n",
    "feature1 = np.array([[1, 2], \n",
    "                     [4, 5],\n",
    "                     [2, 8],\n",
    "                     [7, 5]])\n",
    "\n",
    "feature2 = np.array([[10, 20],\n",
    "                     [40, 50],\n",
    "                     [70, 80]])"
   ]
  },
  {
   "cell_type": "code",
   "execution_count": 14,
   "metadata": {},
   "outputs": [],
   "source": [
    "def get_row_index(row, matrix):\n",
    "    assert len(row.shape) == 1 and len(matrix.shape) == 2 and row.shape[0] == matrix.shape[1]\n",
    "\n",
    "    for i in range(matrix.shape[0]):\n",
    "        if np.array_equal(row, matrix[i, :]):\n",
    "            return i\n",
    "    return None\n",
    "\n",
    "\n",
    "def get_rows_index(matrix1, matrix2):\n",
    "    assert len(matrix1.shape) == 2 and len(matrix2.shape) == 2 and matrix1.shape[1] == matrix2.shape[1]\n",
    "    \n",
    "    index = []\n",
    "    # for i in range(matrix1.shape[0]):\n",
    "    #     index.append(get_row_index(matrix1[i, :], matrix2))\n",
    "\n",
    "    with Pool() as p:  # 创建多个进程\n",
    "        results = [p.apply_async(get_row_index, args=(matrix1[i, :], matrix2)) for i in range(matrix1.shape[0])]\n",
    "        # 获取所有进程返回的结果\n",
    "        index = [result.get() for result in results]\n",
    "    return index"
   ]
  },
  {
   "cell_type": "code",
   "execution_count": 15,
   "metadata": {},
   "outputs": [
    {
     "name": "stdout",
     "output_type": "stream",
     "text": [
      "[0, 2, None, None]\n"
     ]
    }
   ],
   "source": [
    "built_index = get_rows_index(feature1, feature1_last)\n",
    "print(built_index)"
   ]
  },
  {
   "cell_type": "code",
   "execution_count": 6,
   "metadata": {},
   "outputs": [
    {
     "data": {
      "text/plain": [
       "array([[1, 2, 3],\n",
       "       [7, 8, 9]])"
      ]
     },
     "execution_count": 6,
     "metadata": {},
     "output_type": "execute_result"
    }
   ],
   "source": [
    "built_index = list(filter(lambda x: x is not None, built_index))\n",
    "cloud[built_index]"
   ]
  },
  {
   "cell_type": "code",
   "execution_count": 7,
   "metadata": {},
   "outputs": [
    {
     "data": {
      "text/plain": [
       "array([[10, 20],\n",
       "       [70, 80]])"
      ]
     },
     "execution_count": 7,
     "metadata": {},
     "output_type": "execute_result"
    }
   ],
   "source": [
    "feature2[built_index]"
   ]
  },
  {
   "cell_type": "code",
   "execution_count": 9,
   "metadata": {},
   "outputs": [
    {
     "data": {
      "text/plain": [
       "array([[10, 20],\n",
       "       [70, 80]])"
      ]
     },
     "execution_count": 9,
     "metadata": {},
     "output_type": "execute_result"
    }
   ],
   "source": [
    "mask = np.array([True, False, True])\n",
    "feature2[mask]"
   ]
  }
 ],
 "metadata": {
  "kernelspec": {
   "display_name": "dpvo",
   "language": "python",
   "name": "python3"
  },
  "language_info": {
   "codemirror_mode": {
    "name": "ipython",
    "version": 3
   },
   "file_extension": ".py",
   "mimetype": "text/x-python",
   "name": "python",
   "nbconvert_exporter": "python",
   "pygments_lexer": "ipython3",
   "version": "3.10.0"
  },
  "orig_nbformat": 4
 },
 "nbformat": 4,
 "nbformat_minor": 2
}
